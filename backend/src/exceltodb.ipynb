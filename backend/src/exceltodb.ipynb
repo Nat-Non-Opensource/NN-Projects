{
 "cells": [
  {
   "cell_type": "markdown",
   "metadata": {},
   "source": [
    "# Convert from Excel to SQLite 3"
   ]
  },
  {
   "cell_type": "markdown",
   "metadata": {},
   "source": [
    "## Installing the libraries."
   ]
  },
  {
   "cell_type": "code",
   "execution_count": 1,
   "metadata": {
    "scrolled": true
   },
   "outputs": [
    {
     "name": "stdout",
     "output_type": "stream",
     "text": [
      "Requirement already satisfied: pandas in c:\\users\\admin\\pycharmprojects\\djangomap\\venv\\lib\\site-packages (1.0.3)\n",
      "Requirement already satisfied: pytz>=2017.2 in c:\\users\\admin\\pycharmprojects\\djangomap\\venv\\lib\\site-packages (from pandas) (2019.3)\n",
      "Requirement already satisfied: python-dateutil>=2.6.1 in c:\\users\\admin\\pycharmprojects\\djangomap\\venv\\lib\\site-packages (from pandas) (2.8.1)\n",
      "Requirement already satisfied: numpy>=1.13.3 in c:\\users\\admin\\pycharmprojects\\djangomap\\venv\\lib\\site-packages (from pandas) (1.18.2)\n",
      "Requirement already satisfied: six>=1.5 in c:\\users\\admin\\pycharmprojects\\djangomap\\venv\\lib\\site-packages (from python-dateutil>=2.6.1->pandas) (1.14.0)\n",
      "Requirement already satisfied: xlrd in c:\\users\\admin\\pycharmprojects\\djangomap\\venv\\lib\\site-packages (1.2.0)\n"
     ]
    }
   ],
   "source": [
    "!pip install pandas\n",
    "!pip install xlrd"
   ]
  },
  {
   "cell_type": "markdown",
   "metadata": {},
   "source": [
    "## Disable Async Unsafe"
   ]
  },
  {
   "cell_type": "code",
   "execution_count": 2,
   "metadata": {},
   "outputs": [],
   "source": [
    "import os\n",
    "os.environ[\"DJANGO_ALLOW_ASYNC_UNSAFE\"] = \"true\""
   ]
  },
  {
   "cell_type": "markdown",
   "metadata": {},
   "source": [
    "\n",
    "## Import pandas."
   ]
  },
  {
   "cell_type": "code",
   "execution_count": 3,
   "metadata": {},
   "outputs": [],
   "source": [
    "import pandas as pd"
   ]
  },
  {
   "cell_type": "markdown",
   "metadata": {},
   "source": [
    "## Reading and import Excel files."
   ]
  },
  {
   "cell_type": "code",
   "execution_count": 6,
   "metadata": {},
   "outputs": [],
   "source": [
    "df = pd.read_excel('./namo.xlsx')"
   ]
  },
  {
   "cell_type": "markdown",
   "metadata": {},
   "source": [
    "## Put a header."
   ]
  },
  {
   "cell_type": "code",
   "execution_count": 7,
   "metadata": {},
   "outputs": [
    {
     "data": {
      "text/html": [
       "<div>\n",
       "<style scoped>\n",
       "    .dataframe tbody tr th:only-of-type {\n",
       "        vertical-align: middle;\n",
       "    }\n",
       "\n",
       "    .dataframe tbody tr th {\n",
       "        vertical-align: top;\n",
       "    }\n",
       "\n",
       "    .dataframe thead th {\n",
       "        text-align: right;\n",
       "    }\n",
       "</style>\n",
       "<table border=\"1\" class=\"dataframe\">\n",
       "  <thead>\n",
       "    <tr style=\"text-align: right;\">\n",
       "      <th></th>\n",
       "      <th>Location</th>\n",
       "      <th>Latitude</th>\n",
       "      <th>Longitude</th>\n",
       "      <th>Descriptions</th>\n",
       "      <th>Category</th>\n",
       "      <th>Active</th>\n",
       "    </tr>\n",
       "  </thead>\n",
       "  <tbody>\n",
       "    <tr>\n",
       "      <th>0</th>\n",
       "      <td>North Gate Jazz</td>\n",
       "      <td>18.795209</td>\n",
       "      <td>98.987009</td>\n",
       "      <td>วัน: 24/3 จนถึง ไม่ระบุ\\nเวลา: 16:00 จนหมด หรื...</td>\n",
       "      <td>covid19</td>\n",
       "      <td>1</td>\n",
       "    </tr>\n",
       "    <tr>\n",
       "      <th>1</th>\n",
       "      <td>Old Chiangmai: food for all</td>\n",
       "      <td>18.771710</td>\n",
       "      <td>98.987009</td>\n",
       "      <td>วัน: 30/3 จนกว่างบหมด\\nเวลา: 16:00 เป็นต้นไป\\n...</td>\n",
       "      <td>covid19</td>\n",
       "      <td>1</td>\n",
       "    </tr>\n",
       "    <tr>\n",
       "      <th>2</th>\n",
       "      <td>Food 4 Thought</td>\n",
       "      <td>18.806176</td>\n",
       "      <td>98.986379</td>\n",
       "      <td>วัน: 29/3 - ไม่ระบุ\\nเวลา: 11:00-14:00, 17:00 ...</td>\n",
       "      <td>covid19</td>\n",
       "      <td>1</td>\n",
       "    </tr>\n",
       "    <tr>\n",
       "      <th>3</th>\n",
       "      <td>ร้านข้าวมันไก่เกียรติโอชา</td>\n",
       "      <td>18.789726</td>\n",
       "      <td>98.979963</td>\n",
       "      <td>วัน: เริ่ม จันทร์ 30 มีนาคม - ศุกร์ 3 เมษายน 6...</td>\n",
       "      <td>covid19</td>\n",
       "      <td>0</td>\n",
       "    </tr>\n",
       "    <tr>\n",
       "      <th>4</th>\n",
       "      <td>Accha Authentic Indian Cuisine</td>\n",
       "      <td>18.798658</td>\n",
       "      <td>99.004070</td>\n",
       "      <td>วัน: 27-31/3\\nเวลา: 11:00 - 18:00\\nทานน้ำใจ: ข...</td>\n",
       "      <td>covid19</td>\n",
       "      <td>0</td>\n",
       "    </tr>\n",
       "  </tbody>\n",
       "</table>\n",
       "</div>"
      ],
      "text/plain": [
       "                         Location   Latitude  Longitude  \\\n",
       "0                 North Gate Jazz  18.795209  98.987009   \n",
       "1     Old Chiangmai: food for all  18.771710  98.987009   \n",
       "2                  Food 4 Thought  18.806176  98.986379   \n",
       "3       ร้านข้าวมันไก่เกียรติโอชา  18.789726  98.979963   \n",
       "4  Accha Authentic Indian Cuisine  18.798658  99.004070   \n",
       "\n",
       "                                        Descriptions Category  Active  \n",
       "0  วัน: 24/3 จนถึง ไม่ระบุ\\nเวลา: 16:00 จนหมด หรื...  covid19       1  \n",
       "1  วัน: 30/3 จนกว่างบหมด\\nเวลา: 16:00 เป็นต้นไป\\n...  covid19       1  \n",
       "2  วัน: 29/3 - ไม่ระบุ\\nเวลา: 11:00-14:00, 17:00 ...  covid19       1  \n",
       "3  วัน: เริ่ม จันทร์ 30 มีนาคม - ศุกร์ 3 เมษายน 6...  covid19       0  \n",
       "4  วัน: 27-31/3\\nเวลา: 11:00 - 18:00\\nทานน้ำใจ: ข...  covid19       0  "
      ]
     },
     "execution_count": 7,
     "metadata": {},
     "output_type": "execute_result"
    }
   ],
   "source": [
    "df.head()"
   ]
  },
  {
   "cell_type": "markdown",
   "metadata": {},
   "source": [
    "## Import the database."
   ]
  },
  {
   "cell_type": "code",
   "execution_count": 8,
   "metadata": {},
   "outputs": [],
   "source": [
    "from mapapp.models import Map"
   ]
  },
  {
   "cell_type": "markdown",
   "metadata": {},
   "source": [
    "## Save to database."
   ]
  },
  {
   "cell_type": "code",
   "execution_count": 10,
   "metadata": {},
   "outputs": [
    {
     "name": "stdout",
     "output_type": "stream",
     "text": [
      "Name: North Gate Jazz\n",
      "Category: covid19\n"
     ]
    },
    {
     "ename": "TypeError",
     "evalue": "can only concatenate str (not \"bool\") to str",
     "output_type": "error",
     "traceback": [
      "\u001b[1;31m---------------------------------------------------------------------------\u001b[0m",
      "\u001b[1;31mTypeError\u001b[0m                                 Traceback (most recent call last)",
      "\u001b[1;32m<ipython-input-10-b909dce56505>\u001b[0m in \u001b[0;36m<module>\u001b[1;34m\u001b[0m\n\u001b[0;32m     10\u001b[0m         \u001b[0mprint\u001b[0m\u001b[1;33m(\u001b[0m\u001b[1;34m\"Name: \"\u001b[0m \u001b[1;33m+\u001b[0m \u001b[0mstr\u001b[0m\u001b[1;33m(\u001b[0m\u001b[0mm\u001b[0m\u001b[1;33m.\u001b[0m\u001b[0mplace_name\u001b[0m\u001b[1;33m)\u001b[0m\u001b[1;33m)\u001b[0m\u001b[1;33m\u001b[0m\u001b[1;33m\u001b[0m\u001b[0m\n\u001b[0;32m     11\u001b[0m         \u001b[0mprint\u001b[0m\u001b[1;33m(\u001b[0m\u001b[1;34m\"Category: \"\u001b[0m \u001b[1;33m+\u001b[0m \u001b[0mstr\u001b[0m\u001b[1;33m(\u001b[0m\u001b[0mm\u001b[0m\u001b[1;33m.\u001b[0m\u001b[0mplace_categories\u001b[0m\u001b[1;33m)\u001b[0m\u001b[1;33m)\u001b[0m\u001b[1;33m\u001b[0m\u001b[1;33m\u001b[0m\u001b[0m\n\u001b[1;32m---> 12\u001b[1;33m         \u001b[0mprint\u001b[0m\u001b[1;33m(\u001b[0m\u001b[1;34m\"Active: \"\u001b[0m \u001b[1;33m+\u001b[0m \u001b[0mbool\u001b[0m\u001b[1;33m(\u001b[0m\u001b[0mm\u001b[0m\u001b[1;33m.\u001b[0m\u001b[0mplace_enable\u001b[0m\u001b[1;33m)\u001b[0m\u001b[1;33m)\u001b[0m\u001b[1;33m\u001b[0m\u001b[1;33m\u001b[0m\u001b[0m\n\u001b[0m\u001b[0;32m     13\u001b[0m         \u001b[0mprint\u001b[0m\u001b[1;33m(\u001b[0m\u001b[1;34m\"Descriptions: \"\u001b[0m \u001b[1;33m+\u001b[0m \u001b[0mstr\u001b[0m\u001b[1;33m(\u001b[0m\u001b[0mm\u001b[0m\u001b[1;33m.\u001b[0m\u001b[0mplace_enable\u001b[0m\u001b[1;33m)\u001b[0m\u001b[1;33m)\u001b[0m\u001b[1;33m\u001b[0m\u001b[1;33m\u001b[0m\u001b[0m\n\u001b[0;32m     14\u001b[0m         \u001b[0mprint\u001b[0m\u001b[1;33m(\u001b[0m\u001b[1;34m\"Latitude: \"\u001b[0m \u001b[1;33m+\u001b[0m \u001b[0mstr\u001b[0m\u001b[1;33m(\u001b[0m\u001b[0mm\u001b[0m\u001b[1;33m.\u001b[0m\u001b[0mplace_latitude\u001b[0m\u001b[1;33m)\u001b[0m\u001b[1;33m)\u001b[0m\u001b[1;33m\u001b[0m\u001b[1;33m\u001b[0m\u001b[0m\n",
      "\u001b[1;31mTypeError\u001b[0m: can only concatenate str (not \"bool\") to str"
     ]
    }
   ],
   "source": [
    "save = False\n",
    "\n",
    "if save == True:\n",
    "    for idx, item in df.iterrows(): \n",
    "        m = Map(place_name=item.Location, place_categories=item.Category, place_description=item.Descriptions, place_enable=item.Active, place_longitude=item.Longitude, place_latitude=item.Latitude)\n",
    "        m.save()\n",
    "else:\n",
    "    for idx, item in df.iterrows():\n",
    "        m = Map(place_name=item.Location, place_categories=item.Category, place_description=item.Descriptions, place_enable=item.Active, place_longitude=item.Longitude, place_latitude=item.Latitude)\n",
    "        print(\"Name: \" + str(m.place_name))\n",
    "        print(\"Category: \" + str(m.place_categories))\n",
    "        print(\"Active: \" + str(bool(m.place_enable)))\n",
    "        print(\"Descriptions: \" + str(m.place_enable))\n",
    "        print(\"Latitude: \" + str(m.place_latitude))\n",
    "        print(\"Longitude: \" + str(m.place_longitude))\n",
    "        print(\"\\n --------------------------------------------------------- \\n\")"
   ]
  },
  {
   "cell_type": "markdown",
   "metadata": {},
   "source": [
    "### Markdown"
   ]
  }
 ],
 "metadata": {
  "kernelspec": {
   "display_name": "Django Shell-Plus",
   "language": "python",
   "name": "django_extensions"
  },
  "language_info": {
   "codemirror_mode": {
    "name": "ipython",
    "version": 3
   },
   "file_extension": ".py",
   "mimetype": "text/x-python",
   "name": "python",
   "nbconvert_exporter": "python",
   "pygments_lexer": "ipython3",
   "version": "3.7.7"
  }
 },
 "nbformat": 4,
 "nbformat_minor": 4
}
